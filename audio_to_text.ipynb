{
 "cells": [
  {
   "cell_type": "code",
   "execution_count": 1,
   "id": "8ec1f9f4-5012-4d89-b666-b48ac81dbddc",
   "metadata": {
    "tags": []
   },
   "outputs": [
    {
     "name": "stdout",
     "output_type": "stream",
     "text": [
      "Collecting google-cloud-speech\n",
      "  Downloading google_cloud_speech-2.33.0-py3-none-any.whl.metadata (9.6 kB)\n",
      "Requirement already satisfied: google-api-core!=2.0.*,!=2.1.*,!=2.10.*,!=2.2.*,!=2.3.*,!=2.4.*,!=2.5.*,!=2.6.*,!=2.7.*,!=2.8.*,!=2.9.*,<3.0.0,>=1.34.1 in /opt/conda/lib/python3.10/site-packages (from google-api-core[grpc]!=2.0.*,!=2.1.*,!=2.10.*,!=2.2.*,!=2.3.*,!=2.4.*,!=2.5.*,!=2.6.*,!=2.7.*,!=2.8.*,!=2.9.*,<3.0.0,>=1.34.1->google-cloud-speech) (2.25.1)\n",
      "Requirement already satisfied: google-auth!=2.24.0,!=2.25.0,<3.0.0,>=2.14.1 in /opt/conda/lib/python3.10/site-packages (from google-cloud-speech) (2.40.3)\n",
      "Requirement already satisfied: proto-plus<2.0.0,>=1.22.3 in /opt/conda/lib/python3.10/site-packages (from google-cloud-speech) (1.26.1)\n",
      "Requirement already satisfied: protobuf!=4.21.0,!=4.21.1,!=4.21.2,!=4.21.3,!=4.21.4,!=4.21.5,<7.0.0,>=3.20.2 in /opt/conda/lib/python3.10/site-packages (from google-cloud-speech) (3.20.3)\n",
      "Requirement already satisfied: googleapis-common-protos<2.0.0,>=1.56.2 in /opt/conda/lib/python3.10/site-packages (from google-api-core!=2.0.*,!=2.1.*,!=2.10.*,!=2.2.*,!=2.3.*,!=2.4.*,!=2.5.*,!=2.6.*,!=2.7.*,!=2.8.*,!=2.9.*,<3.0.0,>=1.34.1->google-api-core[grpc]!=2.0.*,!=2.1.*,!=2.10.*,!=2.2.*,!=2.3.*,!=2.4.*,!=2.5.*,!=2.6.*,!=2.7.*,!=2.8.*,!=2.9.*,<3.0.0,>=1.34.1->google-cloud-speech) (1.70.0)\n",
      "Requirement already satisfied: requests<3.0.0,>=2.18.0 in /opt/conda/lib/python3.10/site-packages (from google-api-core!=2.0.*,!=2.1.*,!=2.10.*,!=2.2.*,!=2.3.*,!=2.4.*,!=2.5.*,!=2.6.*,!=2.7.*,!=2.8.*,!=2.9.*,<3.0.0,>=1.34.1->google-api-core[grpc]!=2.0.*,!=2.1.*,!=2.10.*,!=2.2.*,!=2.3.*,!=2.4.*,!=2.5.*,!=2.6.*,!=2.7.*,!=2.8.*,!=2.9.*,<3.0.0,>=1.34.1->google-cloud-speech) (2.32.4)\n",
      "Requirement already satisfied: grpcio<2.0.0,>=1.33.2 in /opt/conda/lib/python3.10/site-packages (from google-api-core[grpc]!=2.0.*,!=2.1.*,!=2.10.*,!=2.2.*,!=2.3.*,!=2.4.*,!=2.5.*,!=2.6.*,!=2.7.*,!=2.8.*,!=2.9.*,<3.0.0,>=1.34.1->google-cloud-speech) (1.73.1)\n",
      "Requirement already satisfied: grpcio-status<2.0.0,>=1.33.2 in /opt/conda/lib/python3.10/site-packages (from google-api-core[grpc]!=2.0.*,!=2.1.*,!=2.10.*,!=2.2.*,!=2.3.*,!=2.4.*,!=2.5.*,!=2.6.*,!=2.7.*,!=2.8.*,!=2.9.*,<3.0.0,>=1.34.1->google-cloud-speech) (1.48.2)\n",
      "Requirement already satisfied: cachetools<6.0,>=2.0.0 in /opt/conda/lib/python3.10/site-packages (from google-auth!=2.24.0,!=2.25.0,<3.0.0,>=2.14.1->google-cloud-speech) (5.5.2)\n",
      "Requirement already satisfied: pyasn1-modules>=0.2.1 in /opt/conda/lib/python3.10/site-packages (from google-auth!=2.24.0,!=2.25.0,<3.0.0,>=2.14.1->google-cloud-speech) (0.4.2)\n",
      "Requirement already satisfied: rsa<5,>=3.1.4 in /opt/conda/lib/python3.10/site-packages (from google-auth!=2.24.0,!=2.25.0,<3.0.0,>=2.14.1->google-cloud-speech) (4.9.1)\n",
      "Requirement already satisfied: charset_normalizer<4,>=2 in /opt/conda/lib/python3.10/site-packages (from requests<3.0.0,>=2.18.0->google-api-core!=2.0.*,!=2.1.*,!=2.10.*,!=2.2.*,!=2.3.*,!=2.4.*,!=2.5.*,!=2.6.*,!=2.7.*,!=2.8.*,!=2.9.*,<3.0.0,>=1.34.1->google-api-core[grpc]!=2.0.*,!=2.1.*,!=2.10.*,!=2.2.*,!=2.3.*,!=2.4.*,!=2.5.*,!=2.6.*,!=2.7.*,!=2.8.*,!=2.9.*,<3.0.0,>=1.34.1->google-cloud-speech) (3.4.2)\n",
      "Requirement already satisfied: idna<4,>=2.5 in /opt/conda/lib/python3.10/site-packages (from requests<3.0.0,>=2.18.0->google-api-core!=2.0.*,!=2.1.*,!=2.10.*,!=2.2.*,!=2.3.*,!=2.4.*,!=2.5.*,!=2.6.*,!=2.7.*,!=2.8.*,!=2.9.*,<3.0.0,>=1.34.1->google-api-core[grpc]!=2.0.*,!=2.1.*,!=2.10.*,!=2.2.*,!=2.3.*,!=2.4.*,!=2.5.*,!=2.6.*,!=2.7.*,!=2.8.*,!=2.9.*,<3.0.0,>=1.34.1->google-cloud-speech) (3.10)\n",
      "Requirement already satisfied: urllib3<3,>=1.21.1 in /opt/conda/lib/python3.10/site-packages (from requests<3.0.0,>=2.18.0->google-api-core!=2.0.*,!=2.1.*,!=2.10.*,!=2.2.*,!=2.3.*,!=2.4.*,!=2.5.*,!=2.6.*,!=2.7.*,!=2.8.*,!=2.9.*,<3.0.0,>=1.34.1->google-api-core[grpc]!=2.0.*,!=2.1.*,!=2.10.*,!=2.2.*,!=2.3.*,!=2.4.*,!=2.5.*,!=2.6.*,!=2.7.*,!=2.8.*,!=2.9.*,<3.0.0,>=1.34.1->google-cloud-speech) (1.26.20)\n",
      "Requirement already satisfied: certifi>=2017.4.17 in /opt/conda/lib/python3.10/site-packages (from requests<3.0.0,>=2.18.0->google-api-core!=2.0.*,!=2.1.*,!=2.10.*,!=2.2.*,!=2.3.*,!=2.4.*,!=2.5.*,!=2.6.*,!=2.7.*,!=2.8.*,!=2.9.*,<3.0.0,>=1.34.1->google-api-core[grpc]!=2.0.*,!=2.1.*,!=2.10.*,!=2.2.*,!=2.3.*,!=2.4.*,!=2.5.*,!=2.6.*,!=2.7.*,!=2.8.*,!=2.9.*,<3.0.0,>=1.34.1->google-cloud-speech) (2025.7.14)\n",
      "Requirement already satisfied: pyasn1>=0.1.3 in /opt/conda/lib/python3.10/site-packages (from rsa<5,>=3.1.4->google-auth!=2.24.0,!=2.25.0,<3.0.0,>=2.14.1->google-cloud-speech) (0.6.1)\n",
      "Downloading google_cloud_speech-2.33.0-py3-none-any.whl (335 kB)\n",
      "Installing collected packages: google-cloud-speech\n",
      "Successfully installed google-cloud-speech-2.33.0\n"
     ]
    }
   ],
   "source": [
    "!pip install --upgrade google-cloud-speech"
   ]
  },
  {
   "cell_type": "code",
   "execution_count": 6,
   "id": "98d571a9-7b55-420e-943d-9bf9595dc4f1",
   "metadata": {
    "tags": []
   },
   "outputs": [
    {
     "name": "stdout",
     "output_type": "stream",
     "text": [
      "\n",
      "--- Transcribing MP3 Audio ---\n",
      "Sending audio file 'harvard.mp3' for transcription...\n",
      "Transcript part 1: the stale smell of old beer lingers it takes heat to bring out the odor\n",
      "Transcript part 2:  a cold dip restores health and zest a salt pickle tastes fine with ham tacos al pastor are my favorite a zestful food is the hot cross bun\n",
      "\n",
      "Full MP3 Transcription: the stale smell of old beer lingers it takes heat to bring out the odor  a cold dip restores health and zest a salt pickle tastes fine with ham tacos al pastor are my favorite a zestful food is the hot cross bun\n"
     ]
    }
   ],
   "source": [
    "import io\n",
    "import os\n",
    "from google.cloud import speech_v1p1beta1 as speech\n",
    "\n",
    "# --- IMPORTANT: Set up your Google Cloud credentials ---\n",
    "# 1. Enable the Google Cloud Speech-to-Text API in your GCP project.\n",
    "# 2. Create a Service Account and download its JSON key file.\n",
    "# 3. Set the GOOGLE_APPLICATION_CREDENTIALS environment variable\n",
    "#    to the path of your downloaded JSON key file.\n",
    "#    Example (in your terminal or .bashrc/.zshrc):\n",
    "#    export GOOGLE_APPLICATION_CREDENTIALS=\"/path/to/your/keyfile.json\"\n",
    "#    (Replace with the actual path to your service account key file)\n",
    "\n",
    "\n",
    "def transcribe_audio_file(\n",
    "    audio_file_path: str,\n",
    "    encoding: speech.RecognitionConfig.AudioEncoding,\n",
    "    sample_rate_hertz: int,\n",
    "    language_code: str = \"en-US\",\n",
    ") -> str:\n",
    "    \"\"\"\n",
    "    Transcribes an audio file using Google Cloud Speech-to-Text API.\n",
    "\n",
    "    Args:\n",
    "        audio_file_path (str): The local path to the audio file.\n",
    "        encoding (speech.RecognitionConfig.AudioEncoding): The encoding of the audio file (e.g., LINEAR16, FLAC, MP3).\n",
    "        sample_rate_hertz (int): The sample rate of the audio file in Hertz (e.g., 16000, 44100).\n",
    "        language_code (str): The BCP-47 language tag for the audio (e.g., \"en-US\", \"es-ES\").\n",
    "\n",
    "    Returns:\n",
    "        str: The transcribed text.\n",
    "    \"\"\"\n",
    "    try:\n",
    "        # Instantiates a client\n",
    "        client = speech.SpeechClient()\n",
    "\n",
    "        # Loads the audio file into memory\n",
    "        with io.open(audio_file_path, \"rb\") as audio_file:\n",
    "            content = audio_file.read()\n",
    "\n",
    "        audio = speech.RecognitionAudio(content=content)\n",
    "\n",
    "        config = speech.RecognitionConfig(\n",
    "            encoding=encoding,\n",
    "            sample_rate_hertz=sample_rate_hertz,\n",
    "            language_code=language_code,\n",
    "        )\n",
    "\n",
    "        print(f\"Sending audio file '{audio_file_path}' for transcription...\")\n",
    "        # Detects speech in the audio file\n",
    "        response = client.recognize(config=config, audio=audio)\n",
    "\n",
    "        transcript_parts = []\n",
    "        for i, result in enumerate(response.results):\n",
    "            # The first alternative is the most likely one.\n",
    "            alternative = result.alternatives[0]\n",
    "            transcript_parts.append(alternative.transcript)\n",
    "            print(f\"Transcript part {i+1}: {alternative.transcript}\")\n",
    "\n",
    "\n",
    "        full_transcript = \" \".join(transcript_parts)\n",
    "        return full_transcript\n",
    "\n",
    "    except Exception as e:\n",
    "        print(f\"An error occurred: {e}\")\n",
    "        return f\"Error during transcription: {e}\"\n",
    "\n",
    "# --- Example Usage ---\n",
    "if __name__ == \"__main__\":\n",
    "    \n",
    "    # --- Configuration for your audio file ---\n",
    "    # Adjust these parameters based on your actual audio file's properties.\n",
    "    # Common encodings: LINEAR16 (for WAV PCM), FLAC, MP3, OGG_OPUS\n",
    "    # Common sample rates: 8000, 16000, 44100\n",
    "    # Use 'en-US' for US English, 'es-ES' for Spanish, 'ja-JP' for Japanese, etc.\n",
    "    \n",
    "#     Example 2: MP3 audio file (uncomment and modify if you have an MP3)\n",
    "    audio_path_mp3 = \"harvard.mp3\" # Replace with your actual MP3 file path\n",
    "    encoding_mp3 = speech.RecognitionConfig.AudioEncoding.MP3\n",
    "    sample_rate_mp3 = 44100\n",
    "    language_code_mp3 = \"en-US\"\n",
    "\n",
    "    print(\"\\n--- Transcribing MP3 Audio ---\")\n",
    "    transcription_mp3 = transcribe_audio_file(\n",
    "        audio_path_mp3,\n",
    "        encoding_mp3,\n",
    "        sample_rate_mp3,\n",
    "        language_code_mp3\n",
    "    )\n",
    "    print(f\"\\nFull MP3 Transcription: {transcription_mp3}\")\n"
   ]
  },
  {
   "cell_type": "code",
   "execution_count": null,
   "id": "4131596f-060b-49e4-9b3d-ff8e7caac83c",
   "metadata": {},
   "outputs": [],
   "source": []
  }
 ],
 "metadata": {
  "environment": {
   "kernel": "conda-base-py",
   "name": "workbench-notebooks.m131",
   "type": "gcloud",
   "uri": "us-docker.pkg.dev/deeplearning-platform-release/gcr.io/workbench-notebooks:m131"
  },
  "kernelspec": {
   "display_name": "Python 3 (ipykernel) (Local)",
   "language": "python",
   "name": "conda-base-py"
  },
  "language_info": {
   "codemirror_mode": {
    "name": "ipython",
    "version": 3
   },
   "file_extension": ".py",
   "mimetype": "text/x-python",
   "name": "python",
   "nbconvert_exporter": "python",
   "pygments_lexer": "ipython3",
   "version": "3.10.18"
  }
 },
 "nbformat": 4,
 "nbformat_minor": 5
}
